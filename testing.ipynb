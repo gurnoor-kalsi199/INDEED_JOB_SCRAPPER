{
 "cells": [
  {
   "cell_type": "code",
   "execution_count": null,
   "id": "0a08f6a5",
   "metadata": {
    "vscode": {
     "languageId": "plaintext"
    }
   },
   "outputs": [],
   "source": [
    "#https://in.indeed.com/jobs?q=software+developer&l=India"
   ]
  }
 ],
 "metadata": {
  "language_info": {
   "name": "python"
  }
 },
 "nbformat": 4,
 "nbformat_minor": 5
}
